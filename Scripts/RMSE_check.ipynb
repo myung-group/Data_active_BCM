{
 "cells": [
  {
   "cell_type": "code",
   "execution_count": 1,
   "metadata": {},
   "outputs": [],
   "source": [
    "import matplotlib.pyplot as plt\n",
    "import numpy as np"
   ]
  },
  {
   "cell_type": "code",
   "execution_count": 2,
   "metadata": {},
   "outputs": [],
   "source": [
    "exact_ice_P_kv = []\n",
    "pred_ice_P_kv = []\n",
    "exact_ice_P_old = []\n",
    "pred_ice_P_old = []\n",
    "with open('../Data/ice_data/test_kv.dat', 'r') as file:\n",
    "    for line in file:\n",
    "        exact_ice_P_values = -float(line.split()[4])\n",
    "        exact_ice_P_kv.append(exact_ice_P_values)\n",
    "\n",
    "        pred_ice_P_values = -float(line.split()[5])\n",
    "        pred_ice_P_kv.append(pred_ice_P_values)\n",
    "\n",
    "with open('../Data/ice_data/test_old.dat', 'r') as file:\n",
    "    for line in file:\n",
    "        exact_ice_P_values = -float(line.split()[4])\n",
    "        exact_ice_P_old.append(exact_ice_P_values)\n",
    "\n",
    "        pred_ice_P_values = -float(line.split()[5])\n",
    "        pred_ice_P_old.append(pred_ice_P_values)\n",
    "\n",
    "\n",
    "exact_LGPS_P_kv = []\n",
    "pred_LGPS_P_kv = []\n",
    "exact_LGPS_P_old = []\n",
    "pred_LGPS_P_old = []\n",
    "with open('../Data/LGPS_data/test_kv.dat', 'r') as file:\n",
    "    for line in file:\n",
    "        exact_LGPS_P_values = -float(line.split()[4])\n",
    "        exact_LGPS_P_kv.append(exact_LGPS_P_values)\n",
    "\n",
    "        pred_LGPS_P_values = -float(line.split()[5])\n",
    "        pred_LGPS_P_kv.append(pred_LGPS_P_values)\n",
    "\n",
    "with open('../Data/LGPS_data/test_old.dat', 'r') as file:\n",
    "    for line in file:\n",
    "        exact_LGPS_P_values = -float(line.split()[4])\n",
    "        exact_LGPS_P_old.append(exact_LGPS_P_values)\n",
    "\n",
    "        pred_LGPS_P_values = -float(line.split()[5])\n",
    "        pred_LGPS_P_old.append(pred_LGPS_P_values)\n",
    "\n",
    "\n",
    "exact_lqBN_P_kv = []\n",
    "pred_lqBN_P_kv = []\n",
    "exact_lqBN_P_old = []\n",
    "pred_lqBN_P_old = []\n",
    "with open('../Data/lqBN_data/test_kv.dat', 'r') as file:\n",
    "    for line in file:\n",
    "        exact_lqBN_P_values = -float(line.split()[4])\n",
    "        exact_lqBN_P_kv.append(exact_lqBN_P_values)\n",
    "\n",
    "        pred_lqBN_P_values = -float(line.split()[5])\n",
    "        pred_lqBN_P_kv.append(pred_lqBN_P_values)\n",
    "\n",
    "with open('../Data/lqBN_data/test_old.dat', 'r') as file:\n",
    "    for line in file:\n",
    "        exact_lqBN_P_values = -float(line.split()[4])\n",
    "        exact_lqBN_P_old.append(exact_lqBN_P_values)\n",
    "\n",
    "        pred_lqBN_P_values = -float(line.split()[5])\n",
    "        pred_lqBN_P_old.append(pred_lqBN_P_values)"
   ]
  },
  {
   "cell_type": "code",
   "execution_count": 4,
   "metadata": {},
   "outputs": [
    {
     "name": "stdout",
     "output_type": "stream",
     "text": [
      "0.04840741053199957 1.2963904758252418\n",
      "\n",
      "0.12747590299070147 0.2648276609816902\n",
      "\n",
      "6.538374401798778 38.42999321122482\n"
     ]
    }
   ],
   "source": [
    "def RMSE_pressure(predict, exact):\n",
    "    \"\"\"\n",
    "    RMSE : Root Mean Squared Error\n",
    "    \"\"\"\n",
    "    error=[]\n",
    "    for i in range(len(predict)):\n",
    "        error.append( (predict[i] - exact[i])**2 )\n",
    "       \n",
    "    return np.sqrt( np.sum(error) / len(predict) )\n",
    "\n",
    "ice_kv=RMSE_pressure(pred_ice_P_kv, exact_ice_P_kv)\n",
    "ice_old=RMSE_pressure(pred_ice_P_old, exact_ice_P_old)\n",
    "print(ice_kv, ice_old)\n",
    "print()\n",
    "\n",
    "LGPS_kv=RMSE_pressure(pred_LGPS_P_kv, exact_LGPS_P_kv)\n",
    "LGPS_old=RMSE_pressure(pred_LGPS_P_old, exact_LGPS_P_old)\n",
    "print(LGPS_kv, LGPS_old)\n",
    "print()\n",
    "\n",
    "lqBN_kv=RMSE_pressure(pred_lqBN_P_kv, exact_lqBN_P_kv)\n",
    "lqBN_old=RMSE_pressure(pred_lqBN_P_old, exact_lqBN_P_old)\n",
    "print(lqBN_kv, lqBN_old)"
   ]
  }
 ],
 "metadata": {
  "kernelspec": {
   "display_name": "intelpython",
   "language": "python",
   "name": "intelpython"
  },
  "language_info": {
   "codemirror_mode": {
    "name": "ipython",
    "version": 3
   },
   "file_extension": ".py",
   "mimetype": "text/x-python",
   "name": "python",
   "nbconvert_exporter": "python",
   "pygments_lexer": "ipython3",
   "version": "3.7.13"
  }
 },
 "nbformat": 4,
 "nbformat_minor": 2
}
