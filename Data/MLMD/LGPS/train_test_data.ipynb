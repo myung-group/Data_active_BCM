{
 "cells": [
  {
   "cell_type": "code",
   "execution_count": null,
   "id": "8187b044",
   "metadata": {},
   "outputs": [],
   "source": [
    "import random\n",
    "from ase.io import read, write"
   ]
  },
  {
   "cell_type": "code",
   "execution_count": null,
   "id": "faae406a",
   "metadata": {},
   "outputs": [],
   "source": [
    "input_files = [\"./600K/active_FP.traj\", \"./700K/active_FP.traj\", \"./800K/active_FP.traj\", \"./900K/active_FP.traj\", \"./1000K/active_FP.traj\"]\n",
    "\n",
    "combined_atoms = []\n",
    "for input_file in input_files:\n",
    "    atoms = read(input_file, \":\")\n",
    "    combined_atoms.extend(atoms)\n",
    "\n",
    "random.shuffle(combined_atoms)\n",
    "\n",
    "total_samples = len(combined_atoms)\n",
    "train_samples = int(0.6 * total_samples)\n",
    "print(int(0.6 * total_samples))\n",
    "\n",
    "train_set = combined_atoms[:train_samples]\n",
    "test_set = combined_atoms[train_samples:]\n",
    "\n",
    "write(\"LGPS_train.traj\", train_set, format=\"traj\")\n",
    "write(\"LGPS_test.traj\", test_set, format=\"traj\")"
   ]
  }
 ],
 "metadata": {
  "kernelspec": {
   "display_name": "intelpython",
   "language": "python",
   "name": "intelpython"
  },
  "language_info": {
   "codemirror_mode": {
    "name": "ipython",
    "version": 3
   },
   "file_extension": ".py",
   "mimetype": "text/x-python",
   "name": "python",
   "nbconvert_exporter": "python",
   "pygments_lexer": "ipython3",
   "version": "3.7.13"
  }
 },
 "nbformat": 4,
 "nbformat_minor": 5
}
