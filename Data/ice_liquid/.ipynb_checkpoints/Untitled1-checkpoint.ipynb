{
 "cells": [
  {
   "cell_type": "code",
   "execution_count": 1,
   "id": "2ad8ef31-d14d-43e6-9624-555edf25de75",
   "metadata": {},
   "outputs": [],
   "source": [
    "import matplotlib.pyplot as plt\n",
    "import seaborn as sns\n",
    "import numpy as np\n",
    "import pandas as pd\n",
    "\n",
    "\n",
    "sns.set_palette(\"Set1\")\n",
    "#sns.set_palette(\"dark\")\n",
    "sns.set_style(\"ticks\")\n",
    "sns.set_context(\"paper\") #\"talk\")#(\"poster\")"
   ]
  },
  {
   "cell_type": "code",
   "execution_count": 23,
   "id": "53ad1647-c027-46fb-bc94-bd43bd1faeb3",
   "metadata": {},
   "outputs": [],
   "source": [
    "d_ice2 = {'T' : [250.5, 253.3, 255.9, 256.6, 256.7],\n",
    "        'P' : [0.2, 0.3, 0.4, 0.5, 0.6],\n",
    "         'err': [1.8, 2.0, 1.8, 2.2, 1.6]}\n",
    "d_ice3 = {'T': [246.6, 247.8, 249.2, 251.3, 253.4],\n",
    "          'P': [0.2, 0.3, 0.4, 0.5, 0.6],\n",
    "         'err': [2.3, 2.0, 2.0, 2.1, 2.4]}\n",
    "d_ice3_t255 = {'T': [251.8, 251.1, 254.6],\n",
    "               'P': [0.2, 0.4, 0.6],\n",
    "              'err': [2.1, 2.0, 2.7]}\n",
    "d_ice5 = {'T': [259.2, 261.4, 262.8],\n",
    "          'P': [0.4, 0.5, 0.6],\n",
    "         'err': [2.4, 2.1, 2.4]}"
   ]
  },
  {
   "cell_type": "code",
   "execution_count": 25,
   "id": "509a88d8-29d1-41c3-b0ec-d03e1cbfd96e",
   "metadata": {},
   "outputs": [
    {
     "data": {
      "text/plain": [
       "<ErrorbarContainer object of 3 artists>"
      ]
     },
     "execution_count": 25,
     "metadata": {},
     "output_type": "execute_result"
    },
    {
     "data": {
      "image/png": "[encoded data removed]",
      "text/plain": [
       "<Figure size 640x480 with 1 Axes>"
      ]
     },
     "metadata": {},
     "output_type": "display_data"
    }
   ],
   "source": [
    "#ax = sns.scatterplot (data=d_ice2, x='T', y='P',  markers=True, label='Ice2')\n",
    "#ax = sns.scatterplot (data=d_ice3, x='T', y='P',  markers=True, label='Ice3', ax=ax)\n",
    "#ax = sns.scatterplot (data=d_ice3_t255, x='T', y='P',  markers=True, label='Ice3_T255', ax=ax)\n",
    "#ax = sns.scatterplot (data=d_ice5, x='T', y='P',  label='Ice5', ax=ax)\n",
    "#ax = sns.scatterplot (data=d_ice5, x='T', y='P', label='Ice5', markers=True, ax=ax)\n",
    "#ax = sns.pointplot (data=d_ice5, x='T', y='P', label='Ice5', markers=True, ax=ax)\n",
    "plt.errorbar(d_ice2['T'], d_ice2['P'], xerr=d_ice2['err'], capsize=5, fmt=\"o\")\n",
    "plt.errorbar(d_ice3['T'], d_ice3['P'], xerr=d_ice3['err'], capsize=5, fmt=\"o\")\n",
    "#plt.errorbar(d_ice3_t255['T'], d_ice3_t255['P'], xerr=d_ice3_t255['err'], capsize=5, fmt=\"o\")\n",
    "plt.errorbar(d_ice5['T'], d_ice5['P'], xerr=d_ice5['err'], capsize=5, fmt=\"o\")"
   ]
  },
  {
   "cell_type": "code",
   "execution_count": null,
   "id": "7d5c2b2f-92df-4770-9266-2dc91b33e182",
   "metadata": {},
   "outputs": [],
   "source": []
  }
 ],
 "metadata": {
  "kernelspec": {
   "display_name": "Python 3 (ipykernel)",
   "language": "python",
   "name": "python3"
  },
  "language_info": {
   "codemirror_mode": {
    "name": "ipython",
    "version": 3
   },
   "file_extension": ".py",
   "mimetype": "text/x-python",
   "name": "python",
   "nbconvert_exporter": "python",
   "pygments_lexer": "ipython3",
   "version": "3.10.12"
  }
 },
 "nbformat": 4,
 "nbformat_minor": 5
}
